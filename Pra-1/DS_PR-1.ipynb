{
 "cells": [
  {
   "cell_type": "code",
   "execution_count": 1,
   "metadata": {},
   "outputs": [],
   "source": [
    "from selenium import webdriver\n",
    "from bs4 import BeautifulSoup\n",
    "import pandas as pd"
   ]
  },
  {
   "cell_type": "code",
   "execution_count": 2,
   "metadata": {},
   "outputs": [],
   "source": [
    "driver = webdriver.Chrome(\"/Users/Home/chromedriver\")"
   ]
  },
  {
   "cell_type": "code",
   "execution_count": 3,
   "metadata": {},
   "outputs": [],
   "source": [
    "products_name=[] #List to store name of the product\n",
    "prices=[] #List to store price of the product\n",
    "original_prices=[] #List to store rating of the product\n",
    "\n",
    "\n",
    "driver.get(\"https://www.bewakoof.com/search/t%20shirt/gender-men\")\n"
   ]
  },
  {
   "cell_type": "code",
   "execution_count": 4,
   "metadata": {},
   "outputs": [],
   "source": [
    "content = driver.page_source\n",
    "soup = BeautifulSoup(content)"
   ]
  },
  {
   "cell_type": "code",
   "execution_count": 5,
   "metadata": {},
   "outputs": [
    {
     "ename": "AttributeError",
     "evalue": "'NoneType' object has no attribute 'text'",
     "output_type": "error",
     "traceback": [
      "\u001b[1;31m---------------------------------------------------------------------------\u001b[0m",
      "\u001b[1;31mAttributeError\u001b[0m                            Traceback (most recent call last)",
      "\u001b[1;32m<ipython-input-5-0bb6637b7a0a>\u001b[0m in \u001b[0;36m<module>\u001b[1;34m\u001b[0m\n\u001b[0;32m      5\u001b[0m         \u001b[0mprice\u001b[0m\u001b[1;33m=\u001b[0m\u001b[0ma\u001b[0m\u001b[1;33m.\u001b[0m\u001b[0mfind\u001b[0m\u001b[1;33m(\u001b[0m\u001b[1;34m'span'\u001b[0m\u001b[1;33m,\u001b[0m \u001b[0mattrs\u001b[0m\u001b[1;33m=\u001b[0m\u001b[1;33m{\u001b[0m\u001b[1;34m'class'\u001b[0m\u001b[1;33m:\u001b[0m\u001b[1;34m'discountedPriceText'\u001b[0m\u001b[1;33m}\u001b[0m\u001b[1;33m)\u001b[0m\u001b[1;33m\u001b[0m\u001b[1;33m\u001b[0m\u001b[0m\n\u001b[0;32m      6\u001b[0m         \u001b[0moriginal_price\u001b[0m\u001b[1;33m=\u001b[0m\u001b[0ma\u001b[0m\u001b[1;33m.\u001b[0m\u001b[0mfind\u001b[0m\u001b[1;33m(\u001b[0m\u001b[1;34m'span'\u001b[0m\u001b[1;33m,\u001b[0m \u001b[0mattrs\u001b[0m\u001b[1;33m=\u001b[0m\u001b[1;33m{\u001b[0m\u001b[1;34m'class'\u001b[0m\u001b[1;33m:\u001b[0m\u001b[1;34m'actualPriceText'\u001b[0m\u001b[1;33m}\u001b[0m\u001b[1;33m)\u001b[0m\u001b[1;33m\u001b[0m\u001b[1;33m\u001b[0m\u001b[0m\n\u001b[1;32m----> 7\u001b[1;33m         \u001b[1;32mif\u001b[0m\u001b[1;33m(\u001b[0m\u001b[0mlen\u001b[0m\u001b[1;33m(\u001b[0m\u001b[0mname\u001b[0m\u001b[1;33m.\u001b[0m\u001b[0mtext\u001b[0m\u001b[1;33m)\u001b[0m\u001b[1;33m>\u001b[0m\u001b[1;36m0\u001b[0m \u001b[1;32mand\u001b[0m \u001b[0mlen\u001b[0m\u001b[1;33m(\u001b[0m\u001b[0mprice\u001b[0m\u001b[1;33m.\u001b[0m\u001b[0mtext\u001b[0m\u001b[1;33m)\u001b[0m\u001b[1;33m>\u001b[0m\u001b[1;36m0\u001b[0m \u001b[1;32mand\u001b[0m \u001b[0mlen\u001b[0m\u001b[1;33m(\u001b[0m\u001b[0moriginal_price\u001b[0m\u001b[1;33m.\u001b[0m\u001b[0mtext\u001b[0m\u001b[1;33m)\u001b[0m\u001b[1;33m>\u001b[0m\u001b[1;36m0\u001b[0m\u001b[1;33m)\u001b[0m\u001b[1;33m:\u001b[0m\u001b[1;33m\u001b[0m\u001b[1;33m\u001b[0m\u001b[0m\n\u001b[0m\u001b[0;32m      8\u001b[0m             \u001b[0mproducts_name\u001b[0m\u001b[1;33m.\u001b[0m\u001b[0mappend\u001b[0m\u001b[1;33m(\u001b[0m\u001b[0mname\u001b[0m\u001b[1;33m.\u001b[0m\u001b[0mtext\u001b[0m\u001b[1;33m)\u001b[0m\u001b[1;33m\u001b[0m\u001b[1;33m\u001b[0m\u001b[0m\n\u001b[0;32m      9\u001b[0m             \u001b[0mprices\u001b[0m\u001b[1;33m.\u001b[0m\u001b[0mappend\u001b[0m\u001b[1;33m(\u001b[0m\u001b[0mprice\u001b[0m\u001b[1;33m.\u001b[0m\u001b[0mtext\u001b[0m\u001b[1;33m)\u001b[0m\u001b[1;33m\u001b[0m\u001b[1;33m\u001b[0m\u001b[0m\n",
      "\u001b[1;31mAttributeError\u001b[0m: 'NoneType' object has no attribute 'text'"
     ]
    }
   ],
   "source": [
    "count=1\n",
    "while count<25:\n",
    "    for a in soup.findAll('div', attrs={'class':'productCardDetail'}):\n",
    "        name=a.find('h3')\n",
    "        price=a.find('span', attrs={'class':'discountedPriceText'})\n",
    "        original_price=a.find('span', attrs={'class':'actualPriceText'})\n",
    "        if(len(name.text)>0 and len(price.text)>0 and len(original_price.text)>0):\n",
    "            products_name.append(name.text)\n",
    "            prices.append(price.text)\n",
    "            original_prices.append(original_price.text)\n",
    "    count=count+1\n",
    "        \n",
    "        \n",
    "        \n",
    "        "
   ]
  },
  {
   "cell_type": "code",
   "execution_count": 6,
   "metadata": {},
   "outputs": [
    {
     "name": "stdout",
     "output_type": "stream",
     "text": [
      "28\n",
      "28\n",
      "28\n"
     ]
    }
   ],
   "source": [
    "print(len(products_name))\n",
    "print(len(prices))\n",
    "print(len(original_prices))"
   ]
  },
  {
   "cell_type": "code",
   "execution_count": 7,
   "metadata": {},
   "outputs": [
    {
     "data": {
      "text/plain": [
       "(['Dillinger Navy PlainT-shirtt-shirt',\n",
       "  'Iron Face Half Sleeve T-Shirt (AVL) Black',\n",
       "  'Freedom Feather Half Sleeve T-Shirt Black ',\n",
       "  'Jet Black Half Sleeve T-Shirt',\n",
       "  'Freedom Feather Half Sleeve T-Shirt Bold Red ',\n",
       "  'Navy Blue Half Sleeve T-Shirt',\n",
       "  'White Half Sleeve T-Shirt',\n",
       "  'Lost Mountains Half Sleeve T-Shirt',\n",
       "  'White Blocks and Fonts AOP Half Sleeve T-Shirt',\n",
       "  'My Ride Half Sleeve T-Shirt White',\n",
       "  'Bleh Blah Round Neck Varsity T-Shirt',\n",
       "  'Bubble Gum Tie & Dye T-Shirt',\n",
       "  'Definitely Not 7 Half Sleeve T-Shirt Black',\n",
       "  'No End Half Sleeve T-Shirt',\n",
       "  'Friends Logo Half Sleeve T-Shirt (FRL)',\n",
       "  'Navy Blue Full Sleeve T-Shirt',\n",
       "  'Save It Anyhow Half Sleeve T-Shirt Navy Blue',\n",
       "  'Retro Red Stripe AOP T-Shirt',\n",
       "  'Busy Doin Nothing Half Sleeve T-shirt',\n",
       "  'Save Trees Half Sleeve T-Shirt Navy Blue',\n",
       "  'More Memories Half Sleeve T-Shirt Navy Blue',\n",
       "  'Iron Man Of War Half Sleeve T-Shirt (AVL)',\n",
       "  'Cherry Red Full Sleeve T-Shirt',\n",
       "  'Daffy Awesome Half Sleeve T-Shirt (LTL)',\n",
       "  'Batman Outline Logo Half Sleeve T-Shirt (BML) Black',\n",
       "  'Helmet Boxing Half Sleeve T-Shirt',\n",
       "  'Hammer Of Thor Half Sleeve T-Shirt (AVL)',\n",
       "  'Chili Pepper-Pageant Blue Raglan Half Sleeves T-Shirt'],\n",
       " ['₹539',\n",
       "  '₹349',\n",
       "  '₹329',\n",
       "  '₹349',\n",
       "  '₹399',\n",
       "  '₹349',\n",
       "  '₹349',\n",
       "  '₹399',\n",
       "  '₹499',\n",
       "  '₹399',\n",
       "  '₹349',\n",
       "  '₹599',\n",
       "  '₹399',\n",
       "  '₹299',\n",
       "  '₹399',\n",
       "  '₹399',\n",
       "  '₹399',\n",
       "  '₹399',\n",
       "  '₹399',\n",
       "  '₹399',\n",
       "  '₹399',\n",
       "  '₹399',\n",
       "  '₹329',\n",
       "  '₹349',\n",
       "  '₹349',\n",
       "  '₹399',\n",
       "  '₹399',\n",
       "  '₹349'],\n",
       " ['1199',\n",
       "  '799',\n",
       "  '799',\n",
       "  '399',\n",
       "  '799',\n",
       "  '399',\n",
       "  '399',\n",
       "  '499',\n",
       "  '899',\n",
       "  '799',\n",
       "  '899',\n",
       "  '999',\n",
       "  '799',\n",
       "  '799',\n",
       "  '499',\n",
       "  '499',\n",
       "  '799',\n",
       "  '799',\n",
       "  '499',\n",
       "  '499',\n",
       "  '499',\n",
       "  '499',\n",
       "  '599',\n",
       "  '499',\n",
       "  '499',\n",
       "  '799',\n",
       "  '499',\n",
       "  '899'])"
      ]
     },
     "execution_count": 7,
     "metadata": {},
     "output_type": "execute_result"
    }
   ],
   "source": [
    "products_name , prices , original_prices"
   ]
  },
  {
   "cell_type": "code",
   "execution_count": 12,
   "metadata": {},
   "outputs": [],
   "source": [
    "df = pd.DataFrame({'Product Name':products_name,'Price':prices,'Actual Price':original_prices}) \n",
    "df.to_csv('products.csv', index=False, encoding='utf-8')"
   ]
  },
  {
   "cell_type": "code",
   "execution_count": null,
   "metadata": {},
   "outputs": [],
   "source": []
  }
 ],
 "metadata": {
  "kernelspec": {
   "display_name": "Python 3",
   "language": "python",
   "name": "python3"
  },
  "language_info": {
   "codemirror_mode": {
    "name": "ipython",
    "version": 3
   },
   "file_extension": ".py",
   "mimetype": "text/x-python",
   "name": "python",
   "nbconvert_exporter": "python",
   "pygments_lexer": "ipython3",
   "version": "3.8.5"
  }
 },
 "nbformat": 4,
 "nbformat_minor": 4
}
